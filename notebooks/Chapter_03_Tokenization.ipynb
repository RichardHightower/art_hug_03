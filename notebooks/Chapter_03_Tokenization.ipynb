{
 "cells": [
  {
   "cell_type": "markdown",
   "metadata": {},
   "source": [
    "# Chapter 3: A Deep Dive into Tokenization with Hugging Face\n",
    "## Introduction\n",
    "Welcome to this interactive guide where we will walk through setting up a robust environment for working with Hugging Face transformers and explore the fundamentals of tokenization. This notebook is a companion to the article on setting up your Hugging Face environment and provides hands-on examples."
   ]
  },
  {
   "cell_type": "code",
   "execution_count": 1,
   "metadata": {},
   "outputs": [],
   "source": [
    "import warnings\n",
    "import pandas as pd\n",
    "import numpy as np\n",
    "from transformers import AutoTokenizer\n",
    "import matplotlib.pyplot as plt\n",
    "import seaborn as sns\n",
    "\n",
    "warnings.filterwarnings('ignore')\n",
    "sns.set_theme()"
   ]
  },
  {
   "cell_type": "markdown",
   "metadata": {},
   "source": [
    "## Basic Tokenization Examples\n",
    "\n",
    "Let's start with basic tokenization using different tokenizers."
   ]
  },
  {
   "cell_type": "code",
   "execution_count": 2,
   "metadata": {},
   "outputs": [
    {
     "name": "stdout",
     "output_type": "stream",
     "text": [
      "Original text: Hello, how are you doing today? I hope you're having a great day!\n",
      "\n",
      "Tokens: ['hello', ',', 'how', 'are', 'you', 'doing', 'today', '?', 'i', 'hope', 'you', \"'\", 're', 'having', 'a', 'great', 'day', '!']\n",
      "\n",
      "Number of tokens: 18\n"
     ]
    }
   ],
   "source": [
    "# Load a basic tokenizer\n",
    "tokenizer = AutoTokenizer.from_pretrained(\"bert-base-uncased\")\n",
    "\n",
    "# Example text\n",
    "text = \"Hello, how are you doing today? I hope you're having a great day!\"\n",
    "\n",
    "# Tokenize\n",
    "tokens = tokenizer.tokenize(text)\n",
    "print(f\"Original text: {text}\")\n",
    "print(f\"\\nTokens: {tokens}\")\n",
    "print(f\"\\nNumber of tokens: {len(tokens)}\")"
   ]
  },
  {
   "cell_type": "code",
   "execution_count": 3,
   "metadata": {},
   "outputs": [
    {
     "name": "stdout",
     "output_type": "stream",
     "text": [
      "Token IDs: [7592, 1010, 2129, 2024, 2017, 2725, 2651, 1029, 1045, 3246, 2017, 1005, 2128, 2383, 1037, 2307, 2154, 999]\n",
      "\n",
      "Decoded tokens: ['hello', ',', 'how', 'are', 'you', 'doing', 'today', '?', 'i', 'hope', 'you', \"'\", 're', 'having', 'a', 'great', 'day', '!']\n",
      "\n",
      "Decoded text: hello, how are you doing today? i hope you're having a great day!\n"
     ]
    }
   ],
   "source": [
    "# Convert tokens to IDs and back\n",
    "token_ids = tokenizer.convert_tokens_to_ids(tokens)\n",
    "print(f\"Token IDs: {token_ids}\")\n",
    "\n",
    "# Convert back to tokens\n",
    "decoded_tokens = tokenizer.convert_ids_to_tokens(token_ids)\n",
    "print(f\"\\nDecoded tokens: {decoded_tokens}\")\n",
    "\n",
    "# Decode to text\n",
    "decoded_text = tokenizer.decode(token_ids)\n",
    "print(f\"\\nDecoded text: {decoded_text}\")"
   ]
  },
  {
   "cell_type": "markdown",
   "metadata": {},
   "source": [
    "## Subword Tokenization\n",
    "\n",
    "Explore different subword tokenization approaches."
   ]
  },
  {
   "cell_type": "code",
   "execution_count": 4,
   "metadata": {},
   "outputs": [
    {
     "name": "stdout",
     "output_type": "stream",
     "text": [
      "\n",
      "bert-base-uncased:\n",
      "  Tokens: ['token', '##ization', 'is', 'fascinating', '!']\n",
      "  Count: 5\n",
      "\n",
      "gpt2:\n",
      "  Tokens: ['Token', 'ization', 'Ġis', 'Ġfascinating', '!']\n",
      "  Count: 5\n"
     ]
    },
    {
     "name": "stderr",
     "output_type": "stream",
     "text": [
      "huggingface/tokenizers: The current process just got forked, after parallelism has already been used. Disabling parallelism to avoid deadlocks...\n",
      "To disable this warning, you can either:\n",
      "\t- Avoid using `tokenizers` before the fork if possible\n",
      "\t- Explicitly set the environment variable TOKENIZERS_PARALLELISM=(true | false)\n"
     ]
    },
    {
     "data": {
      "application/vnd.jupyter.widget-view+json": {
       "model_id": "b743881a35254d399ca3a2588295ff62",
       "version_major": 2,
       "version_minor": 0
      },
      "text/plain": [
       "config.json:   0%|          | 0.00/760 [00:00<?, ?B/s]"
      ]
     },
     "metadata": {},
     "output_type": "display_data"
    },
    {
     "data": {
      "application/vnd.jupyter.widget-view+json": {
       "model_id": "6ff88f93ea9f49d4ae0dee60a6756aa7",
       "version_major": 2,
       "version_minor": 0
      },
      "text/plain": [
       "spiece.model:   0%|          | 0.00/798k [00:00<?, ?B/s]"
      ]
     },
     "metadata": {},
     "output_type": "display_data"
    },
    {
     "data": {
      "application/vnd.jupyter.widget-view+json": {
       "model_id": "0638fcf5788e432b892ed61bec45ca01",
       "version_major": 2,
       "version_minor": 0
      },
      "text/plain": [
       "tokenizer.json:   0%|          | 0.00/1.38M [00:00<?, ?B/s]"
      ]
     },
     "metadata": {},
     "output_type": "display_data"
    },
    {
     "name": "stdout",
     "output_type": "stream",
     "text": [
      "\n",
      "xlnet-base-cased:\n",
      "  Tokens: ['▁To', 'ken', 'ization', '▁is', '▁fascinating', '!']\n",
      "  Count: 6\n"
     ]
    }
   ],
   "source": [
    "# Compare different tokenizers\n",
    "models = [\n",
    "    \"bert-base-uncased\",  # WordPiece\n",
    "    \"gpt2\",               # BPE\n",
    "    \"xlnet-base-cased\"    # SentencePiece\n",
    "]\n",
    "\n",
    "test_text = \"Tokenization is fascinating!\"\n",
    "\n",
    "for model_name in models:\n",
    "    tokenizer = AutoTokenizer.from_pretrained(model_name)\n",
    "    tokens = tokenizer.tokenize(test_text)\n",
    "    print(f\"\\n{model_name}:\")\n",
    "    print(f\"  Tokens: {tokens}\")\n",
    "    print(f\"  Count: {len(tokens)}\")"
   ]
  },
  {
   "cell_type": "markdown",
   "metadata": {},
   "source": [
    "## Advanced Tokenization Features\n",
    "\n",
    "Explore padding, truncation, and special tokens."
   ]
  },
  {
   "cell_type": "code",
   "execution_count": 5,
   "metadata": {},
   "outputs": [
    {
     "name": "stdout",
     "output_type": "stream",
     "text": [
      "Input IDs shape: torch.Size([3, 20])\n",
      "\n",
      "Input IDs:\n",
      "tensor([[  101,  2460,  3793,  1012,   102,     0,     0,     0,     0,     0,\n",
      "             0,     0,     0,     0,     0,     0,     0,     0,     0,     0],\n",
      "        [  101,  2023,  2003,  1037,  5396,  3091,  3793,  2008,  3397,  2062,\n",
      "          2616,  1012,   102,     0,     0,     0,     0,     0,     0,     0],\n",
      "        [  101,  2023,  2003,  1037,  2200,  2146,  3793,  2008,  3397,  2116,\n",
      "          2616,  1998,  2097, 10580,  2129, 11687,  4667,  1998, 19817,   102]])\n",
      "\n",
      "Attention mask:\n",
      "tensor([[1, 1, 1, 1, 1, 0, 0, 0, 0, 0, 0, 0, 0, 0, 0, 0, 0, 0, 0, 0],\n",
      "        [1, 1, 1, 1, 1, 1, 1, 1, 1, 1, 1, 1, 1, 0, 0, 0, 0, 0, 0, 0],\n",
      "        [1, 1, 1, 1, 1, 1, 1, 1, 1, 1, 1, 1, 1, 1, 1, 1, 1, 1, 1, 1]])\n"
     ]
    }
   ],
   "source": [
    "tokenizer = AutoTokenizer.from_pretrained(\"bert-base-uncased\")\n",
    "\n",
    "# Multiple texts of different lengths\n",
    "texts = [\n",
    "    \"Short text.\",\n",
    "    \"This is a medium length text that contains more words.\",\n",
    "    \"This is a very long text that contains many words and will demonstrate how padding and truncation work in practice when dealing with sequences of different lengths.\"\n",
    "]\n",
    "\n",
    "# Tokenize with padding and truncation\n",
    "encoded = tokenizer(\n",
    "    texts,\n",
    "    padding=True,\n",
    "    truncation=True,\n",
    "    max_length=20,\n",
    "    return_tensors=\"pt\"\n",
    ")\n",
    "\n",
    "print(\"Input IDs shape:\", encoded['input_ids'].shape)\n",
    "print(\"\\nInput IDs:\")\n",
    "print(encoded['input_ids'])\n",
    "print(\"\\nAttention mask:\")\n",
    "print(encoded['attention_mask'])"
   ]
  },
  {
   "cell_type": "markdown",
   "metadata": {},
   "source": [
    "## Tokenizer Comparison\n",
    "\n",
    "Compare tokenization across different models."
   ]
  },
  {
   "cell_type": "code",
   "execution_count": 6,
   "metadata": {},
   "outputs": [
    {
     "data": {
      "application/vnd.jupyter.widget-view+json": {
       "model_id": "16db2a597d2440118520efe3d4f270cb",
       "version_major": 2,
       "version_minor": 0
      },
      "text/plain": [
       "tokenizer_config.json:   0%|          | 0.00/25.0 [00:00<?, ?B/s]"
      ]
     },
     "metadata": {},
     "output_type": "display_data"
    },
    {
     "data": {
      "application/vnd.jupyter.widget-view+json": {
       "model_id": "db73b74e51af4d38ae0693b6c5181564",
       "version_major": 2,
       "version_minor": 0
      },
      "text/plain": [
       "config.json:   0%|          | 0.00/481 [00:00<?, ?B/s]"
      ]
     },
     "metadata": {},
     "output_type": "display_data"
    },
    {
     "data": {
      "application/vnd.jupyter.widget-view+json": {
       "model_id": "f1594d8d5ffe4152a831394de7ecc365",
       "version_major": 2,
       "version_minor": 0
      },
      "text/plain": [
       "vocab.json:   0%|          | 0.00/899k [00:00<?, ?B/s]"
      ]
     },
     "metadata": {},
     "output_type": "display_data"
    },
    {
     "data": {
      "application/vnd.jupyter.widget-view+json": {
       "model_id": "cbc07177d9bb4c6086f82940c3833672",
       "version_major": 2,
       "version_minor": 0
      },
      "text/plain": [
       "merges.txt:   0%|          | 0.00/456k [00:00<?, ?B/s]"
      ]
     },
     "metadata": {},
     "output_type": "display_data"
    },
    {
     "data": {
      "application/vnd.jupyter.widget-view+json": {
       "model_id": "bc1047ac2771487194fad303cb049e59",
       "version_major": 2,
       "version_minor": 0
      },
      "text/plain": [
       "tokenizer.json:   0%|          | 0.00/1.36M [00:00<?, ?B/s]"
      ]
     },
     "metadata": {},
     "output_type": "display_data"
    },
    {
     "name": "stdout",
     "output_type": "stream",
     "text": [
      "            Model  Token Count  Vocab Size                                                                        Sample Tokens\n",
      "bert-base-uncased           26       30522         ['the', 'quick', 'brown', 'fox', 'jumps', 'over', 'the', 'lazy', 'dog', '.']\n",
      "             gpt2           31       50257 ['The', 'Ġquick', 'Ġbrown', 'Ġfox', 'Ġjumps', 'Ġover', 'Ġthe', 'Ġlazy', 'Ġdog', '.']\n",
      "     roberta-base           31       50265 ['The', 'Ġquick', 'Ġbrown', 'Ġfox', 'Ġjumps', 'Ġover', 'Ġthe', 'Ġlazy', 'Ġdog', '.']\n"
     ]
    }
   ],
   "source": [
    "# Complex text with various challenges\n",
    "complex_text = \"The quick brown fox jumps over the lazy dog. Email: fox@example.com. Price: $123.45. 🦊🐕\"\n",
    "\n",
    "tokenizer_names = [\"bert-base-uncased\", \"gpt2\", \"roberta-base\"]\n",
    "results = []\n",
    "\n",
    "for name in tokenizer_names:\n",
    "    tokenizer = AutoTokenizer.from_pretrained(name)\n",
    "    tokens = tokenizer.tokenize(complex_text)\n",
    "    results.append({\n",
    "        \"Model\": name,\n",
    "        \"Token Count\": len(tokens),\n",
    "        \"Vocab Size\": tokenizer.vocab_size,\n",
    "        \"Sample Tokens\": str(tokens[:10])\n",
    "    })\n",
    "\n",
    "df = pd.DataFrame(results)\n",
    "print(df.to_string(index=False))"
   ]
  },
  {
   "cell_type": "markdown",
   "metadata": {},
   "source": [
    "## Visualization of Tokenization\n",
    "\n",
    "Visualize how different tokenizers handle text."
   ]
  },
  {
   "cell_type": "code",
   "execution_count": 7,
   "metadata": {},
   "outputs": [
    {
     "data": {
      "image/png": "[encoded data removed]",
      "text/plain": [
       "<Figure size 1000x600 with 1 Axes>"
      ]
     },
     "metadata": {},
     "output_type": "display_data"
    }
   ],
   "source": [
    "# Analyze token lengths for different models\n",
    "text_samples = [\n",
    "    \"Hello world!\",\n",
    "    \"Machine learning is amazing.\",\n",
    "    \"The quick brown fox jumps over the lazy dog.\",\n",
    "    \"Supercalifragilisticexpialidocious is a very long word.\",\n",
    "    \"Email me at user@example.com for more information.\"\n",
    "]\n",
    "\n",
    "model_names = [\"bert-base-uncased\", \"gpt2\", \"roberta-base\"]\n",
    "token_counts = {model: [] for model in model_names}\n",
    "\n",
    "for model_name in model_names:\n",
    "    tokenizer = AutoTokenizer.from_pretrained(model_name)\n",
    "    for text in text_samples:\n",
    "        tokens = tokenizer.tokenize(text)\n",
    "        token_counts[model_name].append(len(tokens))\n",
    "\n",
    "# Create visualization\n",
    "fig, ax = plt.subplots(figsize=(10, 6))\n",
    "x = np.arange(len(text_samples))\n",
    "width = 0.25\n",
    "\n",
    "for i, (model, counts) in enumerate(token_counts.items()):\n",
    "    ax.bar(x + i * width, counts, width, label=model)\n",
    "\n",
    "ax.set_xlabel('Text Samples')\n",
    "ax.set_ylabel('Token Count')\n",
    "ax.set_title('Token Count Comparison Across Different Tokenizers')\n",
    "ax.set_xticks(x + width)\n",
    "ax.set_xticklabels([f'Sample {i+1}' for i in range(len(text_samples))])\n",
    "ax.legend()\n",
    "plt.tight_layout()\n",
    "plt.show()"
   ]
  },
  {
   "cell_type": "markdown",
   "metadata": {},
   "source": [
    "## Special Tokens and Token Types\n",
    "\n",
    "Understanding special tokens used by different models."
   ]
  },
  {
   "cell_type": "code",
   "execution_count": 8,
   "metadata": {},
   "outputs": [
    {
     "name": "stdout",
     "output_type": "stream",
     "text": [
      "Special tokens:\n",
      "  PAD token: [PAD] (ID: 0)\n",
      "  UNK token: [UNK] (ID: 100)\n",
      "  CLS token: [CLS] (ID: 101)\n",
      "  SEP token: [SEP] (ID: 102)\n",
      "  MASK token: [MASK] (ID: 103)\n",
      "\n",
      "Encoded sentence pair:\n",
      "Input IDs: [101, 2023, 2003, 1996, 2034, 6251, 1012, 102, 2023, 2003, 1996, 2117, 6251, 1012, 102]\n",
      "Token type IDs: [0, 0, 0, 0, 0, 0, 0, 0, 1, 1, 1, 1, 1, 1, 1]\n",
      "\n",
      "Decoded: [CLS] this is the first sentence. [SEP] this is the second sentence. [SEP]\n"
     ]
    }
   ],
   "source": [
    "# Examine special tokens\n",
    "tokenizer = AutoTokenizer.from_pretrained(\"bert-base-uncased\")\n",
    "\n",
    "print(\"Special tokens:\")\n",
    "print(f\"  PAD token: {tokenizer.pad_token} (ID: {tokenizer.pad_token_id})\")\n",
    "print(f\"  UNK token: {tokenizer.unk_token} (ID: {tokenizer.unk_token_id})\")\n",
    "print(f\"  CLS token: {tokenizer.cls_token} (ID: {tokenizer.cls_token_id})\")\n",
    "print(f\"  SEP token: {tokenizer.sep_token} (ID: {tokenizer.sep_token_id})\")\n",
    "print(f\"  MASK token: {tokenizer.mask_token} (ID: {tokenizer.mask_token_id})\")\n",
    "\n",
    "# Demonstrate token type IDs for sentence pairs\n",
    "text_a = \"This is the first sentence.\"\n",
    "text_b = \"This is the second sentence.\"\n",
    "\n",
    "encoded = tokenizer(text_a, text_b, return_tensors=\"pt\")\n",
    "print(\"\\nEncoded sentence pair:\")\n",
    "print(f\"Input IDs: {encoded['input_ids'][0].tolist()}\")\n",
    "print(f\"Token type IDs: {encoded['token_type_ids'][0].tolist()}\")\n",
    "print(f\"\\nDecoded: {tokenizer.decode(encoded['input_ids'][0])}\")"
   ]
  },
  {
   "cell_type": "markdown",
   "metadata": {},
   "source": [
    "## Handling Out-of-Vocabulary Words\n",
    "\n",
    "See how different tokenizers handle unknown words."
   ]
  },
  {
   "cell_type": "code",
   "metadata": {},
   "outputs": [],
   "source": "# Test with made-up words\ntest_texts = [\n    \"The flibbertigibbet jumped over the moon.\",\n    \"Pneumonoultramicroscopicsilicovolcanoconiosis is a lung disease.\",\n    \"The 🦄 and 🌈 are beautiful.\"\n]\n\nfor model_name in [\"bert-base-uncased\", \"gpt2\", \"roberta-base\"]:\n    print(f\"\\n{model_name}:\")\n    tokenizer = AutoTokenizer.from_pretrained(model_name)\n    \n    # Get UNK token for this tokenizer\n    unk_token = tokenizer.unk_token\n    print(f\"  UNK token: {unk_token}\")\n    \n    for text in test_texts:\n        tokens = tokenizer.tokenize(text)\n        # Truncate display for long texts\n        display_text = text if len(text) <= 30 else text[:30] + \"...\"\n        print(f\"  '{display_text}' -> {len(tokens)} tokens\")\n        \n        # Check for UNK tokens\n        if unk_token and unk_token in tokens:\n            unk_count = tokens.count(unk_token)\n            print(f\"    Contains {unk_count} UNK token(s)!\")\n        \n        # Show first few tokens to see how it's handled\n        print(f\"    First tokens: {tokens[:5]}...\")"
  },
  {
   "cell_type": "markdown",
   "metadata": {},
   "source": [
    "## Performance Considerations\n",
    "\n",
    "Measure tokenization speed for different approaches."
   ]
  },
  {
   "cell_type": "code",
   "execution_count": null,
   "metadata": {},
   "outputs": [],
   "source": [
    "import time\n",
    "\n",
    "# Generate test data\n",
    "long_text = \" \".join([\"This is a test sentence.\"] * 1000)\n",
    "\n",
    "tokenizer = AutoTokenizer.from_pretrained(\"bert-base-uncased\")\n",
    "\n",
    "# Time different tokenization approaches\n",
    "# 1. Basic tokenization\n",
    "start = time.time()\n",
    "tokens = tokenizer.tokenize(long_text)\n",
    "basic_time = time.time() - start\n",
    "\n",
    "# 2. Full encoding (with special tokens)\n",
    "start = time.time()\n",
    "encoded = tokenizer(long_text, return_tensors=\"pt\", truncation=True, max_length=512)\n",
    "full_time = time.time() - start\n",
    "\n",
    "# 3. Batch encoding\n",
    "batch_texts = [long_text[:100]] * 100\n",
    "start = time.time()\n",
    "batch_encoded = tokenizer(batch_texts, return_tensors=\"pt\", padding=True, truncation=True)\n",
    "batch_time = time.time() - start\n",
    "\n",
    "print(f\"Basic tokenization time: {basic_time:.4f}s\")\n",
    "print(f\"Full encoding time: {full_time:.4f}s\")\n",
    "print(f\"Batch encoding time (100 texts): {batch_time:.4f}s\")\n",
    "print(f\"Average per text in batch: {batch_time/100:.4f}s\")"
   ]
  },
  {
   "cell_type": "markdown",
   "metadata": {},
   "source": [
    "## Summary\n",
    "\n",
    "In this notebook, we've covered:\n",
    "\n",
    "1. **Basic Tokenization** - Converting text to tokens and IDs\n",
    "2. **Subword Tokenization** - Different approaches (WordPiece, BPE, SentencePiece)\n",
    "3. **Advanced Features** - Padding, truncation, and special tokens\n",
    "4. **Tokenizer Comparison** - How different models tokenize the same text\n",
    "5. **Visualization** - Token count analysis across models\n",
    "6. **Special Tokens** - Understanding CLS, SEP, PAD, etc.\n",
    "7. **OOV Handling** - How tokenizers deal with unknown words\n",
    "8. **Performance** - Speed considerations for different approaches\n",
    "\n",
    "These examples provide a comprehensive understanding of tokenization in the HuggingFace ecosystem!"
   ]
  }
 ],
 "metadata": {
  "kernelspec": {
   "display_name": "Python 3 (ipykernel)",
   "language": "python",
   "name": "python3"
  },
  "language_info": {
   "codemirror_mode": {
    "name": "ipython",
    "version": 3
   },
   "file_extension": ".py",
   "mimetype": "text/x-python",
   "name": "python",
   "nbconvert_exporter": "python",
   "pygments_lexer": "ipython3",
   "version": "3.12.9"
  }
 },
 "nbformat": 4,
 "nbformat_minor": 4
}